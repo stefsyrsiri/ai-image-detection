{
  "nbformat": 4,
  "nbformat_minor": 0,
  "metadata": {
    "colab": {
      "provenance": [],
      "gpuType": "T4",
      "include_colab_link": true
    },
    "kernelspec": {
      "name": "python3",
      "display_name": "Python 3"
    },
    "language_info": {
      "name": "python"
    },
    "accelerator": "GPU"
  },
  "cells": [
    {
      "cell_type": "markdown",
      "metadata": {
        "id": "view-in-github",
        "colab_type": "text"
      },
      "source": [
        "<a href=\"https://colab.research.google.com/github/stefsyrsiri/synthetic-image-detection/blob/stef/report.ipynb\" target=\"_parent\"><img src=\"https://colab.research.google.com/assets/colab-badge.svg\" alt=\"Open In Colab\"/></a>"
      ]
    },
    {
      "cell_type": "markdown",
      "source": [
        "# Detecting AI-Generated Synthetic Images"
      ],
      "metadata": {
        "id": "vHe2ZG12ASrS"
      }
    },
    {
      "cell_type": "markdown",
      "source": [
        "The boom of AI-powered content generation and increasing interest in the research field of Deep Learning has led to widely accessible (and trending) tools that can produce content of any kind: text, image, audio, and video. This high GenAI trend has even led to the advancedment of existing tools, that had been forgotten. AI-generated content can often be indistinguishable from its authentic counterparts, posing a threat to the credibility of digital media. The underlying dangers of the misuse of GenAI have already come to surface with deepfakes, voice cloning, fakes news, disinformation, identity theft and various types of scams.\n",
        "\n",
        "In this report, we focus on image generation, which can have multiple societal effects, especially on people not familiar with this kind of technology. Our task is to train a neural network to identify whether an image is real or AI-generated.\n",
        "\n"
      ],
      "metadata": {
        "id": "JFVP4x9EptiC"
      }
    },
    {
      "cell_type": "code",
      "source": [
        "# Project overview\n",
        "# TO-DO: Add statistics from credible sources / read papers\n",
        "# TO-DO: Find media to add / Try to find high-res images from the dataset\n",
        "# 1. CNN\n",
        "# 2. Transfer learning\n",
        "# 3. Demo"
      ],
      "metadata": {
        "id": "Gsokdm2TOvcW"
      },
      "execution_count": null,
      "outputs": []
    },
    {
      "cell_type": "code",
      "source": [
        "# Import packages and custom functions\n",
        "# Data Handling\n",
        "import os\n",
        "import sys\n",
        "from PIL import Image\n",
        "import time\n",
        "import pandas as pd\n",
        "import numpy as np\n",
        "import tempfile\n",
        "\n",
        "\n",
        "# PyTorch and CV\n",
        "import torch\n",
        "import torch.nn as nn\n",
        "import torch.nn.functional as F\n",
        "import torch.optim as optim\n",
        "from torch.utils.data import DataLoader\n",
        "from torch.utils.data import random_split\n",
        "from torchvision import datasets, transforms, models\n",
        "from torchvision.transforms import InterpolationMode, v2\n",
        "import torchvision.transforms.v2 as v2_transforms\n",
        "import cv2\n",
        "\n",
        "# Visualization and Evaluation\n",
        "import matplotlib.pyplot as plt\n",
        "from tqdm import tqdm\n",
        "from sklearn.manifold import TSNE\n",
        "\n",
        "# Classes\n",
        "!git clone https://github.com/stefsyrsiri/synthetic-image-detection.git\n",
        "sys.path.append('/content/synthetic-image-detection')\n",
        "from functions import *\n",
        "from testpy import test\n",
        "test\n",
        "\n",
        "#TO-DO: Do we need the following?\n",
        "# import tensorflow\n",
        "# from tensorflow.keras import Model #Model class for instantiating the ResNet that you will be creating.\n",
        "\n",
        "\n",
        "# #These are all described in standard deep learning literature (e.g. Conv2Dor Dense). Why they are necessary can be found in the He et al. (2016) paper.\n",
        "# from tensorflow.keras.layers import Add, GlobalAveragePooling2D,\\\n",
        "# Dense, Flatten, Conv2D, Lambda, Input, BatchNormalization, Activation schedules and the Stochastic Gradient Descent optimizer for optimization purposes.\n",
        "# from tensorflow.keras.optimizers import schedules, SGD\n",
        "\n",
        "# For visualizing your training results and saving your model, respectively.\n",
        "# from tensorflow.keras.callbacks import TensorBoard, ModelCheckpoint\n"
      ],
      "metadata": {
        "id": "P7GgL8YY1aL9",
        "outputId": "93ff6b30-d2b3-4254-c09f-86c932b1b6be",
        "colab": {
          "base_uri": "https://localhost:8080/",
          "height": 53
        }
      },
      "execution_count": 28,
      "outputs": [
        {
          "output_type": "stream",
          "name": "stdout",
          "text": [
            "fatal: destination path 'synthetic-image-detection' already exists and is not an empty directory.\n"
          ]
        },
        {
          "output_type": "execute_result",
          "data": {
            "text/plain": [
              "'>>^ω^<<'"
            ],
            "application/vnd.google.colaboratory.intrinsic+json": {
              "type": "string"
            }
          },
          "metadata": {},
          "execution_count": 28
        }
      ]
    },
    {
      "cell_type": "markdown",
      "source": [
        "## Dataset"
      ],
      "metadata": {
        "id": "7hgHiTNXBSwH"
      }
    },
    {
      "cell_type": "markdown",
      "source": [
        "The dataset we're using to train our classifier is **[CIFAKE: Real and AI-Generated Synthetic Images](https://www.kaggle.com/datasets/birdy654/cifake-real-and-ai-generated-synthetic-images)**, which can be found on Kaggle.\n",
        "\n",
        "CIFAKE is a comprehensive collection of 60,000 synthetically-generated images and 60,000 real images (collected from CIFAR-10). The dataset contains two classes, labelled as \"REAL\" and \"FAKE\"."
      ],
      "metadata": {
        "id": "UOvfMVuJWzbQ"
      }
    },
    {
      "cell_type": "code",
      "source": [
        "# The dataset exceeds Github's limits and needs to be downloaded directly from Kaggle\n",
        "# Download CIFAKE dataset\n",
        "!kaggle datasets download -d birdy654/cifake-real-and-ai-generated-synthetic-images\n",
        "\n",
        "# Unzip downloaded dataset (can be found in the Files on the left)\n",
        "!unzip -q cifake-real-and-ai-generated-synthetic-images.zip"
      ],
      "metadata": {
        "id": "LSd21FnybWD4",
        "outputId": "77c0e72e-340b-4775-b75d-4497c3a7616d",
        "colab": {
          "base_uri": "https://localhost:8080/"
        }
      },
      "execution_count": 2,
      "outputs": [
        {
          "output_type": "stream",
          "name": "stdout",
          "text": [
            "Dataset URL: https://www.kaggle.com/datasets/birdy654/cifake-real-and-ai-generated-synthetic-images\n",
            "License(s): other\n",
            "Downloading cifake-real-and-ai-generated-synthetic-images.zip to /content\n",
            " 98% 102M/105M [00:06<00:00, 19.9MB/s] \n",
            "100% 105M/105M [00:06<00:00, 16.4MB/s]\n"
          ]
        }
      ]
    },
    {
      "cell_type": "code",
      "source": [
        "# Paths to the dataset\n",
        "train_fake_path = './train/FAKE'\n",
        "train_real_path = './train/REAL'\n",
        "test_fake_path = './test/FAKE'\n",
        "test_real_path = './test/REAL'\n",
        "\n",
        "# Function to display an image\n",
        "def show_image(title, path):\n",
        "    image_files = os.listdir(path)\n",
        "    img_path = os.path.join(path, image_files[6])  # Just take the first image for now\n",
        "    img = Image.open(img_path)\n",
        "\n",
        "    plt.figure(figsize=(1, 1))\n",
        "    plt.imshow(img)\n",
        "    plt.title(title)\n",
        "    plt.axis('off')  # Hide the axis\n",
        "    plt.show()\n",
        "\n",
        "# TO-DO: Display the images nicely\n",
        "# Show one image from each category\n",
        "show_image('Train FAKE', train_fake_path)\n",
        "show_image('Train REAL', train_real_path)\n",
        "show_image('Test FAKE', test_fake_path)\n",
        "show_image('Test REAL', test_real_path)"
      ],
      "metadata": {
        "colab": {
          "base_uri": "https://localhost:8080/",
          "height": 493
        },
        "id": "MhIomBipoh1f",
        "outputId": "434d7c08-563f-40f0-b21f-a3b88789442c"
      },
      "execution_count": 3,
      "outputs": [
        {
          "output_type": "display_data",
          "data": {
            "text/plain": [
              "<Figure size 100x100 with 1 Axes>"
            ],
            "image/png": "[encoded data removed]"
          },
          "metadata": {}
        },
        {
          "output_type": "display_data",
          "data": {
            "text/plain": [
              "<Figure size 100x100 with 1 Axes>"
            ],
            "image/png": "[encoded data removed]"
          },
          "metadata": {}
        },
        {
          "output_type": "display_data",
          "data": {
            "text/plain": [
              "<Figure size 100x100 with 1 Axes>"
            ],
            "image/png": "[encoded data removed]"
          },
          "metadata": {}
        },
        {
          "output_type": "display_data",
          "data": {
            "text/plain": [
              "<Figure size 100x100 with 1 Axes>"
            ],
            "image/png": "[encoded data removed]"
          },
          "metadata": {}
        }
      ]
    },
    {
      "cell_type": "code",
      "source": [
        "# Our classes' labels\n",
        "print(f\"Training labels: {np.asarray(os.listdir('train'))}\")\n",
        "print(f\"Test labels: {np.asarray(os.listdir('test'))}\")"
      ],
      "metadata": {
        "id": "2BhaHXKLH-dW",
        "outputId": "9703ac15-dff4-4482-8622-101a49e8ac4d",
        "colab": {
          "base_uri": "https://localhost:8080/"
        }
      },
      "execution_count": 4,
      "outputs": [
        {
          "output_type": "stream",
          "name": "stdout",
          "text": [
            "Training labels: ['REAL' 'FAKE']\n",
            "Test labels: ['REAL' 'FAKE']\n"
          ]
        }
      ]
    },
    {
      "cell_type": "code",
      "source": [
        "# Create the training and test datasets with ImageFolder class from PyTorch\n",
        "# Training set\n",
        "train_set = datasets.ImageFolder(root='train') # 'train' is the name of the folder (also its path)\n",
        "print(f\"Training set: {len(train_set):,}\")\n",
        "\n",
        "# Test set\n",
        "test_set  = datasets.ImageFolder(root='test')\n",
        "print(f\"Test set: {len(test_set):,}\")"
      ],
      "metadata": {
        "id": "PxskEW9pNsdo",
        "outputId": "77e0ebbf-6f09-4c0b-b485-36dcd6e52535",
        "colab": {
          "base_uri": "https://localhost:8080/"
        }
      },
      "execution_count": 5,
      "outputs": [
        {
          "output_type": "stream",
          "name": "stdout",
          "text": [
            "Training set: 100,000\n",
            "Test set: 20,000\n"
          ]
        }
      ]
    },
    {
      "cell_type": "code",
      "source": [
        "# Plot graphs showing the sizes of the training and test sets\n",
        "dataset_sizes = [len(train_set), len(test_set)]\n",
        "dataset_labels = ['Training Set', 'Test Set']\n",
        "\n",
        "plt.figure(figsize=(10, 6))\n",
        "plt.bar(dataset_labels, dataset_sizes, color=['cornflowerblue', 'sandybrown'])\n",
        "plt.xlabel('Dataset')\n",
        "plt.ylabel('Number of Images')\n",
        "plt.title('Dataset Sizes')\n",
        "plt.show()"
      ],
      "metadata": {
        "id": "VvcRZ5dCecPd",
        "outputId": "ec9ff1ab-d11b-4d22-fe2f-1a6f717a2664",
        "colab": {
          "base_uri": "https://localhost:8080/",
          "height": 564
        }
      },
      "execution_count": 6,
      "outputs": [
        {
          "output_type": "display_data",
          "data": {
            "text/plain": [
              "<Figure size 1000x600 with 1 Axes>"
            ],
            "image/png": "[encoded data removed]"
          },
          "metadata": {}
        }
      ]
    },
    {
      "cell_type": "code",
      "source": [
        "# Observe the number of images for each class in testset\n",
        "real_count_train = sum(label == 0 for label in train_set.targets)\n",
        "fake_count_train = sum(label == 1 for label in train_set.targets)\n",
        "\n",
        "# Define labels and counts\n",
        "train_set_labels = ['Real', 'Fake']\n",
        "train_counts = [real_count_train, fake_count_train]\n",
        "\n",
        "plt.figure(figsize=(10, 6))\n",
        "plt.bar(train_set_labels, train_counts, color=['dodgerblue', 'crimson'])\n",
        "plt.xlabel('Dataset')\n",
        "plt.ylabel('Number of Images')\n",
        "plt.title('Classes distribution in the training set')\n",
        "plt.show()"
      ],
      "metadata": {
        "id": "60dMTDcdDN5f",
        "outputId": "b39b2598-ae57-4126-cab9-eb932e7b92b5",
        "colab": {
          "base_uri": "https://localhost:8080/",
          "height": 564
        }
      },
      "execution_count": 7,
      "outputs": [
        {
          "output_type": "display_data",
          "data": {
            "text/plain": [
              "<Figure size 1000x600 with 1 Axes>"
            ],
            "image/png": "[encoded data removed]"
          },
          "metadata": {}
        }
      ]
    },
    {
      "cell_type": "markdown",
      "source": [
        "Applying transformations and visualizing them helps ensure that the data preprocessing and augmentation pipeline is correctly implemented before we start the training.\n",
        "It also ensures that the transformations are enhancing the dataset in a way that will help the model generalize better to new / unseen data,\n",
        "ultimately improving the model's performance and ensuring robustness."
      ],
      "metadata": {
        "id": "g6_dCABEi_d-"
      }
    },
    {
      "cell_type": "markdown",
      "source": [
        "We further split the training set into 80/20 training and validation sets."
      ],
      "metadata": {
        "id": "JMBSZFUMtIz9"
      }
    },
    {
      "cell_type": "markdown",
      "source": [
        "### Data split"
      ],
      "metadata": {
        "id": "6vP62neIEw-8"
      }
    },
    {
      "cell_type": "code",
      "source": [
        "len_img=len(train_set)\n",
        "len_train=int(0.8*len_img)\n",
        "len_val=len_img-len_train\n",
        "\n",
        "# Split Pytorch tensor\n",
        "train_set,val_set=random_split(train_set,\n",
        "                             [len_train,len_val]) # random split 80/20\n",
        "\n",
        "print(f\"Training set size: {len(train_set):,}\")\n",
        "print(f\"Validation set size: {len(val_set):,}\")\n",
        "# TO-DO: Another graph now that we have a val set as well"
      ],
      "metadata": {
        "colab": {
          "base_uri": "https://localhost:8080/"
        },
        "id": "_4KAlBB5sySr",
        "outputId": "1a072c2a-c5ec-4094-ebd1-34c64b518d66"
      },
      "execution_count": 8,
      "outputs": [
        {
          "output_type": "stream",
          "name": "stdout",
          "text": [
            "Training set size: 80,000\n",
            "Validation set size: 20,000\n"
          ]
        }
      ]
    },
    {
      "cell_type": "code",
      "source": [
        "# Plot graphs showing the sizes of the training and test sets\n",
        "dataset_sizes = [len(train_set), len(val_set)]\n",
        "dataset_labels = ['Training Set', 'Validation Set']\n",
        "\n",
        "plt.figure(figsize=(10, 6))\n",
        "plt.bar(dataset_labels, dataset_sizes, color=['cornflowerblue', 'sandybrown'])\n",
        "plt.xlabel('Dataset')\n",
        "plt.ylabel('Number of Images')\n",
        "plt.title('Dataset Sizes')\n",
        "plt.show()"
      ],
      "metadata": {
        "id": "f22dfDBrHMXu",
        "outputId": "a843aa1e-b824-4710-da70-503ac20bd872",
        "colab": {
          "base_uri": "https://localhost:8080/",
          "height": 564
        }
      },
      "execution_count": 9,
      "outputs": [
        {
          "output_type": "display_data",
          "data": {
            "text/plain": [
              "<Figure size 1000x600 with 1 Axes>"
            ],
            "image/png": "[encoded data removed]"
          },
          "metadata": {}
        }
      ]
    },
    {
      "cell_type": "markdown",
      "source": [
        "### Preprocessing"
      ],
      "metadata": {
        "id": "6gYgU-DYGs0v"
      }
    },
    {
      "cell_type": "code",
      "source": [
        "img, label = val_set[2] # TO-DO: Can we pick the image of a cat?\n",
        "\n",
        "# Convert PIL Image to numpy array\n",
        "img_np = np.array(img)\n",
        "\n",
        "# Visualize the original image\n",
        "plt.imshow(img_np)\n",
        "plt.axis('off')\n",
        "plt.title(\"Original Image\")\n",
        "plt.show()"
      ],
      "metadata": {
        "colab": {
          "base_uri": "https://localhost:8080/",
          "height": 428
        },
        "id": "xoHsH1Vg0TUg",
        "outputId": "896689dd-e2aa-4c98-8287-30a88d2b55bd"
      },
      "execution_count": 10,
      "outputs": [
        {
          "output_type": "display_data",
          "data": {
            "text/plain": [
              "<Figure size 640x480 with 1 Axes>"
            ],
            "image/png": "[encoded data removed]"
          },
          "metadata": {}
        }
      ]
    },
    {
      "cell_type": "code",
      "source": [
        "# Transform the training and validation sets\n",
        "train_set.dataset.transform = transform_set(set_type='training')\n",
        "val_set.dataset.transform = transform_set(set_type='validation')"
      ],
      "metadata": {
        "id": "8i6pVj2Ft8xQ"
      },
      "execution_count": 11,
      "outputs": []
    },
    {
      "cell_type": "code",
      "source": [
        "img, label = val_set[2]\n",
        "\n",
        "val_transformed_img = transform_set(set_type='validation')\n",
        "\n",
        "# # Convert PyTorch tensor to numpy array and rearrange dimensions\n",
        "# val_transformed_img_np = np.transpose(val_transformed_img .numpy(),(1, 2, 0))\n",
        "\n",
        "# # Convert PyTorch tensor to numpy array and rearrange dimensions\n",
        "# img_np = np.transpose(img.numpy(), (1, 2, 0))\n",
        "\n",
        "# # Visualize the transformed image\n",
        "# plt.imshow(val_transformed_img_np)\n",
        "# plt.axis('off')\n",
        "# plt.title(\"Transformed Image\")\n",
        "# plt.show()\n"
      ],
      "metadata": {
        "id": "d4aADTnFuGt0"
      },
      "execution_count": 12,
      "outputs": []
    },
    {
      "cell_type": "markdown",
      "source": [
        "Augmentation techniques (e.g. random rotations, flips, color jittering) are typically applied only to the training set. The purpose of data augmentation is to artificially expand the training set and help the model generalize better by learning from varied examples. In other words, we don't want our model to fixate on irrelevant features like orientation, but capture the important ones instead. Augmentation should not be applied to the validation set because it should represent the true distribution of data the model will encounter in real-world scenarios.\n",
        ":\n",
        "\n",
        "*   Resize: all images have a uniform size, which is required for batch processing in neural networks     \n",
        "*   Center crop: ensuring that the center of the image is retained. This is a common practice to standardize input sizes for models like those in the ResNet family.\n",
        "\n",
        "Data augmentation\n",
        "*   Random horizontal flip: Flips the image horizontally with a probability of 0.5. This helps the model become invariant to the horizontal orientation of objects, increasing its robustness.\n",
        "*   Random rotation: Rotates the image by up to 30 degrees randomly. This adds variation to the dataset, helping the model learn to recognize objects from different angles.\n",
        "*   Color jitter: Randomly changes the brightness and contrast of the image, simulating different lighting conditions. This makes the model more robust to changes in lighting in real-world scenarios.\n",
        "*   Random channel permutation: Randomly permutes the RGB channels, which can help the model become invariant to color variations. This is especially useful if color is not a crucial feature for classification.\n",
        "*   Normalization: For each channel using the specified mean and standard deviation.\n",
        "\n"
      ],
      "metadata": {
        "id": "OIvFur3UkgdY"
      }
    },
    {
      "cell_type": "code",
      "source": [
        "img, label = train_set[1]\n",
        "\n",
        "train_transformed_img = transform_set(set_type='training')\n",
        "\n",
        "# # # Convert PyTorch tensor to numpy array and rearrange dimensions\n",
        "# train_transformed_img_np = np.transpose(train_transformed_img.numpy(), (1, 2, 0))\n",
        "\n",
        "\n",
        "# # # Convert to uint8 for OpenCV\n",
        "# train_transformed_img_np_uint8 = (train_transformed_img_np * 255).astype(np.uint8)\n",
        "\n",
        "\n",
        "# # Convert the transformed image to a tensor and add a batch dimension\n",
        "# #Train_transformed_img = transforms.ToTensor()(Train_transformed_img)\n",
        "# train_transformed_img = train_transformed_img.unsqueeze(0)\n",
        "\n",
        "#-----------------------------------------------------------#\n",
        "\n",
        "#Εδω κανουμε με resnet feature extraction , το κανω remark για να το δουμε στο Transfer learning!#\n",
        "\n",
        "# # Load a pretrained ResNet model (Residual Network)\n",
        "#  model = models.resnet50(pretrained=True)\n",
        "\n",
        "# feature_extractor = torch.nn.Sequential(*list(model.children())[:-1])\n",
        "\n",
        "# # # Ensure the model is in evaluation mode\n",
        "# feature_extractor.eval()\n",
        "\n",
        "# # # Extract features\n",
        "# with torch.no_grad():features = feature_extractor(Train_transformed_img).squeeze()\n",
        "\n",
        "# # # Convert features to a numpy array for further processing if needed\n",
        "# features_np = features.numpy()\n",
        "\n",
        "#------------------------------------------------------------#\n",
        "\n",
        "# # Convert the transformed image to numpy array for SIFT\n",
        "# train_transformed_img = train_transformed_img.squeeze().permute(1, 2, 0).numpy()\n",
        "# train_transformed_img = np.clip((train_transformed_img * np.array([0.229, 0.224, 0.225]) + np.array([0.485, 0.456, 0.406])), 0, 1)\n",
        "# train_transformed_img = (train_transformed_img * 255).astype(np.uint8)\n",
        "\n",
        "# # ##Scale-Invariant Feature Transform (SIFT) algorithm to detect and visualize keypoints in a grayscale version of the image. --SIFT works on single-channel images, so the RGB image is converted to grayscale.\n",
        "# gray = cv2.cvtColor(train_transformed_img_np_uint8, cv2.COLOR_RGB2GRAY)\n",
        "\n",
        "# # Initialize SIFT detector\n",
        "# sift = cv2.SIFT_create()\n",
        "\n",
        "# # Detect keypoints\n",
        "# key_points = sift.detect(gray, None)\n",
        "\n",
        "# # Draw keypoints on the image\n",
        "# img_with_kp = cv2.drawKeypoints(gray, key_points, None)\n",
        "\n",
        "# # Create a figure\n",
        "# fig = plt.figure(figsize=(12, 6))\n",
        "\n",
        "# # Convert image from BGR to RGB for matplotlib\n",
        "# img_rgb = cv2.cvtColor(img_with_kp, cv2.COLOR_BGR2RGB)\n",
        "\n",
        "# fig.add_subplot(1, 3, 3)\n",
        "# plt.imshow(img_rgb)\n",
        "# plt.axis('off')\n",
        "# plt.title(\"Transformed Image with SIFT Keypoints\")\n",
        "# plt.show()\n",
        "\n"
      ],
      "metadata": {
        "id": "inqI6h-iZlzY"
      },
      "execution_count": 13,
      "outputs": []
    },
    {
      "cell_type": "code",
      "source": [
        "device = torch.device(\"cuda:0\" if torch.cuda.is_available() else \"cpu\")\n",
        "print(device)"
      ],
      "metadata": {
        "id": "dvDhUsapNPb7",
        "outputId": "effc1088-bbcc-4b40-aa61-ed7766427916",
        "colab": {
          "base_uri": "https://localhost:8080/"
        }
      },
      "execution_count": 14,
      "outputs": [
        {
          "output_type": "stream",
          "name": "stdout",
          "text": [
            "cuda:0\n"
          ]
        }
      ]
    },
    {
      "cell_type": "markdown",
      "source": [
        "## Training"
      ],
      "metadata": {
        "id": "IoNUkKDFBDMx"
      }
    },
    {
      "cell_type": "markdown",
      "source": [
        "For the training we opted for 16 batches and shuffled the training and validation sets, without touching the test set."
      ],
      "metadata": {
        "id": "snovTHgQ88FX"
      }
    },
    {
      "cell_type": "code",
      "source": [
        "# Batch size - change if we get an Out Of Memory error\n",
        "batch_size = 64\n",
        "\n",
        "# Training data loaders\n",
        "train_loader = DataLoader(\n",
        "    train_set, batch_size=batch_size, shuffle=True, # Shuffle for every epoch\n",
        "    num_workers=2, pin_memory=True # Changed num_workers to 2 from 4 after warning\n",
        ")\n",
        "# Validation data loaders\n",
        "val_loader = DataLoader(\n",
        "    val_set, batch_size=batch_size, shuffle=False, # No need to shuffle the validation set\n",
        "    num_workers=2, pin_memory=True\n",
        ")\n",
        "\n",
        "# Test data loaders\n",
        "test_loader = DataLoader(\n",
        "    test_set, batch_size=batch_size, shuffle=False, # No need to shuffle the test set\n",
        "    num_workers=2, pin_memory=True\n",
        ")"
      ],
      "metadata": {
        "id": "cCgzuqwSWcMx"
      },
      "execution_count": 15,
      "outputs": []
    },
    {
      "cell_type": "markdown",
      "source": [
        "### Neural network architecture\n",
        "\n",
        "(add media)\n",
        "\n",
        "We built our classifier with three convolutions layers (conv1, conv2, conv3) ending with 128 output channels, with ReLU activation functions, followed by max pooling layers (pool) and dropout. The fully connected layers (fc1, fc2, and fc3) process the output of the convolutional layers. We chose a kernel size of 3 and 1 padding.\n",
        "We use Binary Cross Entropy loss which is appropriate for binary classification tasks like this one."
      ],
      "metadata": {
        "id": "GeeIX6WN9WMm"
      }
    },
    {
      "cell_type": "code",
      "source": [
        "import torch\n",
        "import torch.nn as nn\n",
        "import torch.optim as optim\n",
        "from sklearn.metrics import accuracy_score, f1_score\n",
        "def train_model(model, train_loader, val_loader, n_epochs=20, learning_rate=0.001):\n",
        "    train_losses, val_losses, train_accuracies, val_accuracies, train_f1s, val_f1s = [], [], [], [], [], []\n",
        "\n",
        "    since = time.time()\n",
        "\n",
        "    # Create a temporary directory to save training checkpoints\n",
        "    with tempfile.TemporaryDirectory() as tempdir:\n",
        "        best_model_params_path = os.path.join(tempdir, 'best_model_params.pt')\n",
        "        torch.save(model.state_dict(), best_model_params_path)\n",
        "\n",
        "        criterion = nn.BCELoss()\n",
        "        optimizer = optim.Adam(model.parameters(), lr=learning_rate)\n",
        "\n",
        "        # Check if GPU is available and move the model to GPU\n",
        "        device = torch.device(\"cuda\" if torch.cuda.is_available() else \"cpu\")\n",
        "        model.to(device)\n",
        "\n",
        "        # Training loop\n",
        "        for epoch in range(n_epochs):  # Loop over the dataset multiple times\n",
        "            model.train()\n",
        "            train_loss = 0.0\n",
        "            train_acc = 0.0\n",
        "            train_f1 = 0.0\n",
        "            total_train_batches = len(train_loader)\n",
        "\n",
        "            for train_images, train_labels in train_loader:\n",
        "                # Move data to the GPU if available\n",
        "                train_images, train_labels = train_images.to(device), train_labels.to(device)\n",
        "\n",
        "                # Forward pass\n",
        "                outputs = model(train_images)\n",
        "\n",
        "                # Reshape labels to match the output shape\n",
        "                train_labels = train_labels.view(-1, 1).float()\n",
        "\n",
        "                # Compute loss\n",
        "                loss = criterion(outputs, train_labels)\n",
        "\n",
        "                # Backprop and update weights\n",
        "                optimizer.zero_grad()\n",
        "                loss.backward()\n",
        "                optimizer.step()\n",
        "\n",
        "                train_loss += loss.item()\n",
        "\n",
        "                # Calculate accuracy and F1-score\n",
        "                predictions = (outputs > 0.5).float()  # Apply threshold to convert probabilities to binary predictions\n",
        "                train_acc += accuracy_score(train_labels.cpu().numpy(), predictions.cpu().numpy())\n",
        "                train_f1 += f1_score(train_labels.cpu().numpy(), predictions.cpu().numpy(), average='macro')\n",
        "\n",
        "            # Calculate average training loss, accuracy, and F1-score for the epoch\n",
        "            avg_train_loss = train_loss / total_train_batches\n",
        "            avg_train_acc = train_acc / total_train_batches\n",
        "            avg_train_f1 = train_f1 / total_train_batches\n",
        "\n",
        "            # Append average training metrics for this epoch\n",
        "            train_losses.append(avg_train_loss)\n",
        "            train_accuracies.append(avg_train_acc)\n",
        "            train_f1s.append(avg_train_f1)\n",
        "\n",
        "            # Validation step\n",
        "            model.eval()\n",
        "            val_loss = 0.0\n",
        "            best_loss = 100\n",
        "            val_acc = 0.0\n",
        "            val_f1 = 0.0\n",
        "            total_val_batches = len(val_loader)\n",
        "\n",
        "            with torch.no_grad():\n",
        "                for val_images, val_labels in val_loader:\n",
        "                    # Move data to the GPU if available\n",
        "                    val_images, val_labels = val_images.to(device), val_labels.to(device)\n",
        "\n",
        "                    outputs = model(val_images)\n",
        "                    val_labels = val_labels.view(-1, 1).float()\n",
        "                    loss = criterion(outputs, val_labels)\n",
        "                    val_loss += loss.item()\n",
        "\n",
        "                    # Calculate accuracy and F1-score\n",
        "                    predictions = (outputs > 0.5).float()  # Apply threshold to convert probabilities to binary predictions\n",
        "                    val_acc += accuracy_score(val_labels.cpu().numpy(), predictions.cpu().numpy())\n",
        "                    val_f1 += f1_score(val_labels.cpu().numpy(), predictions.cpu().numpy(), average='macro')\n",
        "\n",
        "            # Calculate average validation loss, accuracy, and F1-score for the epoch\n",
        "            avg_val_loss = val_loss / total_val_batches\n",
        "            if avg_val_loss < best_loss:\n",
        "              best_loss = avg_val_loss\n",
        "            avg_val_acc = val_acc / total_val_batches\n",
        "            avg_val_f1 = val_f1 / total_val_batches\n",
        "\n",
        "            # Append average validation metrics for this epoch\n",
        "            val_losses.append(avg_val_loss)\n",
        "            val_accuracies.append(avg_val_acc)\n",
        "            val_f1s.append(avg_val_f1)\n",
        "\n",
        "            print(f'Epoch [{epoch+1}/{n_epochs}] - Training Loss: {avg_train_loss:.4f}, Validation Loss: {avg_val_loss:.4f}, Training Accuracy: {avg_train_acc:.4f}, Validation Accuracy: {avg_val_acc:.4f}, Training F1: {avg_train_f1:.4f}, Validation F1: {avg_val_f1:.4f}')\n",
        "\n",
        "        time_elapsed = time.time() - since\n",
        "        print(f'Training complete in {time_elapsed // 60:.0f}m {time_elapsed % 60:.0f}s')\n",
        "        print(f'Best Validation loss: {best_loss:4f}')\n",
        "\n",
        "        model.load_state_dict(torch.load(best_model_params_path))\n",
        "\n",
        "    return model"
      ],
      "metadata": {
        "id": "h4o-rknwRsML"
      },
      "execution_count": 16,
      "outputs": []
    },
    {
      "cell_type": "code",
      "source": [
        "train_model(model=ConvNet(), train_loader=train_loader, val_loader=val_loader)"
      ],
      "metadata": {
        "id": "92Va9jFeL_7f",
        "outputId": "af9dcb33-9039-437a-e96b-58eab18443da",
        "colab": {
          "base_uri": "https://localhost:8080/"
        }
      },
      "execution_count": 17,
      "outputs": [
        {
          "output_type": "stream",
          "name": "stdout",
          "text": [
            "Epoch [1/20] - Training Loss: 0.3363, Validation Loss: 0.2302, Training Accuracy: 0.8479, Validation Accuracy: 0.9078, Training F1: 0.8426, Validation F1: 0.9066\n",
            "Epoch [2/20] - Training Loss: 0.1942, Validation Loss: 0.2147, Training Accuracy: 0.9236, Validation Accuracy: 0.9200, Training F1: 0.9223, Validation F1: 0.9189\n",
            "Epoch [3/20] - Training Loss: 0.1343, Validation Loss: 0.1867, Training Accuracy: 0.9486, Validation Accuracy: 0.9300, Training F1: 0.9478, Validation F1: 0.9290\n",
            "Epoch [4/20] - Training Loss: 0.0840, Validation Loss: 0.2117, Training Accuracy: 0.9687, Validation Accuracy: 0.9306, Training F1: 0.9681, Validation F1: 0.9297\n",
            "Epoch [5/20] - Training Loss: 0.0569, Validation Loss: 0.2771, Training Accuracy: 0.9792, Validation Accuracy: 0.9261, Training F1: 0.9789, Validation F1: 0.9250\n",
            "Epoch [6/20] - Training Loss: 0.0414, Validation Loss: 0.2321, Training Accuracy: 0.9847, Validation Accuracy: 0.9320, Training F1: 0.9844, Validation F1: 0.9310\n",
            "Epoch [7/20] - Training Loss: 0.0305, Validation Loss: 0.2913, Training Accuracy: 0.9889, Validation Accuracy: 0.9274, Training F1: 0.9888, Validation F1: 0.9264\n",
            "Epoch [8/20] - Training Loss: 0.0263, Validation Loss: 0.3286, Training Accuracy: 0.9910, Validation Accuracy: 0.9285, Training F1: 0.9908, Validation F1: 0.9275\n",
            "Epoch [9/20] - Training Loss: 0.0245, Validation Loss: 0.3779, Training Accuracy: 0.9922, Validation Accuracy: 0.9228, Training F1: 0.9920, Validation F1: 0.9216\n",
            "Epoch [10/20] - Training Loss: 0.0222, Validation Loss: 0.4117, Training Accuracy: 0.9925, Validation Accuracy: 0.9248, Training F1: 0.9924, Validation F1: 0.9237\n",
            "Epoch [11/20] - Training Loss: 0.0179, Validation Loss: 0.4242, Training Accuracy: 0.9939, Validation Accuracy: 0.9267, Training F1: 0.9938, Validation F1: 0.9256\n",
            "Epoch [12/20] - Training Loss: 0.0177, Validation Loss: 0.5208, Training Accuracy: 0.9938, Validation Accuracy: 0.9263, Training F1: 0.9937, Validation F1: 0.9252\n",
            "Epoch [13/20] - Training Loss: 0.0162, Validation Loss: 0.3745, Training Accuracy: 0.9950, Validation Accuracy: 0.9260, Training F1: 0.9950, Validation F1: 0.9249\n",
            "Epoch [14/20] - Training Loss: 0.0160, Validation Loss: 0.3534, Training Accuracy: 0.9952, Validation Accuracy: 0.9314, Training F1: 0.9951, Validation F1: 0.9305\n",
            "Epoch [15/20] - Training Loss: 0.0139, Validation Loss: 0.3478, Training Accuracy: 0.9954, Validation Accuracy: 0.9261, Training F1: 0.9953, Validation F1: 0.9251\n",
            "Epoch [16/20] - Training Loss: 0.0121, Validation Loss: 0.4397, Training Accuracy: 0.9960, Validation Accuracy: 0.9301, Training F1: 0.9959, Validation F1: 0.9292\n",
            "Epoch [17/20] - Training Loss: 0.0149, Validation Loss: 0.3596, Training Accuracy: 0.9955, Validation Accuracy: 0.9309, Training F1: 0.9954, Validation F1: 0.9300\n",
            "Epoch [18/20] - Training Loss: 0.0126, Validation Loss: 0.4666, Training Accuracy: 0.9957, Validation Accuracy: 0.9311, Training F1: 0.9956, Validation F1: 0.9302\n",
            "Epoch [19/20] - Training Loss: 0.0104, Validation Loss: 0.4129, Training Accuracy: 0.9966, Validation Accuracy: 0.9306, Training F1: 0.9965, Validation F1: 0.9297\n",
            "Epoch [20/20] - Training Loss: 0.0098, Validation Loss: 0.5670, Training Accuracy: 0.9969, Validation Accuracy: 0.9293, Training F1: 0.9968, Validation F1: 0.9284\n",
            "Training complete\n"
          ]
        }
      ]
    },
    {
      "cell_type": "code",
      "source": [
        "import torch\n",
        "import torch.nn as nn\n",
        "import torch.optim as optim\n",
        "from sklearn.metrics import accuracy_score, f1_score\n",
        "from torch.utils.data import DataLoader, TensorDataset\n",
        "\n",
        "# Dummy model for testing\n",
        "class DummyModel(nn.Module):\n",
        "    def __init__(self):\n",
        "        super(DummyModel, self).__init__()\n",
        "        self.linear = nn.Linear(10, 1)\n",
        "\n",
        "    def forward(self, x):\n",
        "        return torch.sigmoid(self.linear(x))\n",
        "\n",
        "# Generate dummy data\n",
        "x_train = torch.randn(100, 10)  # 100 samples, 10 features\n",
        "y_train = torch.randint(0, 2, (100, 1)).float()  # Binary labels\n",
        "x_val = torch.randn(20, 10)  # 20 samples, 10 features\n",
        "y_val = torch.randint(0, 2, (20, 1)).float()  # Binary labels\n",
        "\n",
        "train_dataset = TensorDataset(x_train, y_train)\n",
        "val_dataset = TensorDataset(x_val, y_val)\n",
        "train_loader = DataLoader(train_dataset, batch_size=10, shuffle=True)\n",
        "val_loader = DataLoader(val_dataset, batch_size=10, shuffle=False)\n",
        "\n",
        "# Function to train the model\n",
        "def train_model(model, train_loader, val_loader, n_epochs=20, learning_rate=0.001):\n",
        "    train_losses, val_losses, train_accuracies, val_accuracies, train_f1s, val_f1s = [], [], [], [], [], []\n",
        "\n",
        "    criterion = nn.BCELoss()\n",
        "    optimizer = optim.Adam(model.parameters(), lr=learning_rate)\n",
        "\n",
        "    # Check if GPU is available and move the model to GPU\n",
        "    device = torch.device(\"cuda\" if torch.cuda.is_available() else \"cpu\")\n",
        "    model.to(device)\n",
        "\n",
        "    # Training loop\n",
        "    for epoch in range(n_epochs):  # Loop over the dataset multiple times\n",
        "        model.train()\n",
        "        train_loss = 0.0\n",
        "        train_acc = 0.0\n",
        "        train_f1 = 0.0\n",
        "        total_train_batches = len(train_loader)\n",
        "\n",
        "        for train_images, train_labels in train_loader:\n",
        "            # Move data to the GPU if available\n",
        "            train_images, train_labels = train_images.to(device), train_labels.to(device)\n",
        "\n",
        "            # Forward pass\n",
        "            outputs = model(train_images)\n",
        "\n",
        "            # Reshape labels to match the output shape\n",
        "            train_labels = train_labels.view(-1, 1).float()\n",
        "\n",
        "            # Compute loss\n",
        "            loss = criterion(outputs, train_labels)\n",
        "\n",
        "            # Backprop and update weights\n",
        "            optimizer.zero_grad()\n",
        "            loss.backward()\n",
        "            optimizer.step()\n",
        "\n",
        "            train_loss += loss.item()\n",
        "\n",
        "            # Calculate accuracy and F1-score\n",
        "            predictions = (outputs > 0.5).float()  # Apply threshold to convert probabilities to binary predictions\n",
        "            train_acc += accuracy_score(train_labels.cpu().numpy(), predictions.cpu().numpy())\n",
        "            train_f1 += f1_score(train_labels.cpu().numpy(), predictions.cpu().numpy(), average='macro')\n",
        "\n",
        "        # Calculate average training loss, accuracy, and F1-score for the epoch\n",
        "        avg_train_loss = train_loss / total_train_batches\n",
        "        avg_train_acc = train_acc / total_train_batches\n",
        "        avg_train_f1 = train_f1 / total_train_batches\n",
        "\n",
        "        # Append average training metrics for this epoch\n",
        "        train_losses.append(avg_train_loss)\n",
        "        train_accuracies.append(avg_train_acc)\n",
        "        train_f1s.append(avg_train_f1)\n",
        "\n",
        "        # Validation step\n",
        "        model.eval()\n",
        "        val_loss = 0.0\n",
        "        val_acc = 0.0\n",
        "        val_f1 = 0.0\n",
        "        total_val_batches = len(val_loader)\n",
        "\n",
        "        with torch.no_grad():\n",
        "            for val_images, val_labels in val_loader:\n",
        "                # Move data to the GPU if available\n",
        "                val_images, val_labels = val_images.to(device), val_labels.to(device)\n",
        "\n",
        "                outputs = model(val_images)\n",
        "                val_labels = val_labels.view(-1, 1).float()\n",
        "                loss = criterion(outputs, val_labels)\n",
        "                val_loss += loss.item()\n",
        "\n",
        "                # Calculate accuracy and F1-score\n",
        "                predictions = (outputs > 0.5).float()  # Apply threshold to convert probabilities to binary predictions\n",
        "                val_acc += accuracy_score(val_labels.cpu().numpy(), predictions.cpu().numpy())\n",
        "                val_f1 += f1_score(val_labels.cpu().numpy(), predictions.cpu().numpy(), average='macro')\n",
        "\n",
        "        # Calculate average validation loss, accuracy, and F1-score for the epoch\n",
        "        avg_val_loss = val_loss / total_val_batches\n",
        "        avg_val_acc = val_acc / total_val_batches\n",
        "        avg_val_f1 = val_f1 / total_val_batches\n",
        "\n",
        "        # Append average validation metrics for this epoch\n",
        "        val_losses.append(avg_val_loss)\n",
        "        val_accuracies.append(avg_val_acc)\n",
        "        val_f1s.append(avg_val_f1)\n",
        "\n",
        "        print(f'Epoch [{epoch+1}/{n_epochs}] - Training Loss: {avg_train_loss:.4f}, Validation Loss: {avg_val_loss:.4f}, Training Accuracy: {avg_train_acc:.4f}, Validation Accuracy: {avg_val_acc:.4f}, Training F1: {avg_train_f1:.4f}, Validation F1: {avg_val_f1:.4f}')\n",
        "\n",
        "    print('Training complete')\n",
        "\n",
        "# Instantiate and test the dummy model\n",
        "dummy_model = DummyModel()\n",
        "train_model(dummy_model, train_loader, val_loader, n_epochs=3)  # Testing with 3 epochs\n"
      ],
      "metadata": {
        "id": "wePNz-70SQNF",
        "outputId": "2cda0600-ca3f-452a-a3d7-5bf2ad80320c",
        "colab": {
          "base_uri": "https://localhost:8080/"
        }
      },
      "execution_count": 25,
      "outputs": [
        {
          "output_type": "stream",
          "name": "stdout",
          "text": [
            "Epoch [1/3] - Training Loss: 0.7355, Validation Loss: 0.6846, Training Accuracy: 0.5200, Validation Accuracy: 0.6000, Training F1: 0.5071, Validation F1: 0.5475\n",
            "Epoch [2/3] - Training Loss: 0.7326, Validation Loss: 0.6851, Training Accuracy: 0.5100, Validation Accuracy: 0.6000, Training F1: 0.4626, Validation F1: 0.5475\n",
            "Epoch [3/3] - Training Loss: 0.7300, Validation Loss: 0.6854, Training Accuracy: 0.5200, Validation Accuracy: 0.6000, Training F1: 0.5112, Validation F1: 0.5475\n",
            "Training complete\n"
          ]
        }
      ]
    },
    {
      "cell_type": "code",
      "source": [
        "# predictions = (outputs > 0.5).float()  # Thresholding at 0.5 for sigmoid output\n",
        "# correct = torch.eq(predictions, labels).float().mean()\n",
        "# accuracy = correct * 100  # Calculate percentage accuracy\n",
        "# from sklearn.metrics import f1_score\n",
        "# f1 = f1_score(labels.cpu().numpy(), predictions.cpu().numpy()) * 100\n",
        "# print(f\"Accuracy: {accuracy:.2f}%\\nF1: {f1:.2f}%\")"
      ],
      "metadata": {
        "id": "Psx10cJVL4A5"
      },
      "execution_count": 24,
      "outputs": []
    },
    {
      "cell_type": "markdown",
      "source": [
        "Total Iterations per Epoch:Given the training set size of 80,000 and a batch size of 64, the total number of iterations (mini-batches) per epoch is:\n",
        "\n",
        "total_iterations = total_samples / batch_Size =\n",
        "80000/64 = 1250\n",
        "​\n",
        "\n",
        "Printing Frequency:\n",
        "\n",
        "You want to balance between too frequent and too infrequent logging. If you print too often, it might clutter the output and slightly slow down training due to I/O operations. If you print too infrequently, you might not get enough information to monitor training effectively.\n",
        "A common approach is to print the running loss a few times per epoch.\n",
        "\n",
        "For an 80,000-sample training set and a batch size of 64, a good approach could be to print the loss every 200 mini-batches. This way, you'll get around 6 updates per epoch (1250 iterations / 200 = 6.25), which provides a good balance between feedback frequency and performance overhead."
      ],
      "metadata": {
        "id": "NuoPQbmp9znh"
      }
    },
    {
      "cell_type": "markdown",
      "source": [
        "## Transfer learning"
      ],
      "metadata": {
        "id": "8bdUMhTGBH7F"
      }
    }
  ]
}