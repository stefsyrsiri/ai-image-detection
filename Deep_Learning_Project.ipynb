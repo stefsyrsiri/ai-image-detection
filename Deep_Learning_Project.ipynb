{
  "nbformat": 4,
  "nbformat_minor": 0,
  "metadata": {
    "colab": {
      "provenance": [],
      "authorship_tag": "ABX9TyOA2I5r715LDiOS845Vp4Ke",
      "include_colab_link": true
    },
    "kernelspec": {
      "name": "python3",
      "display_name": "Python 3"
    },
    "language_info": {
      "name": "python"
    }
  },
  "cells": [
    {
      "cell_type": "markdown",
      "metadata": {
        "id": "view-in-github",
        "colab_type": "text"
      },
      "source": [
        "<a href=\"https://colab.research.google.com/github/stefsyrsiri/Deep-Learning-Project/blob/dataset-exploration/Deep_Learning_Project.ipynb\" target=\"_parent\"><img src=\"https://colab.research.google.com/assets/colab-badge.svg\" alt=\"Open In Colab\"/></a>"
      ]
    },
    {
      "cell_type": "markdown",
      "source": [
        "**In progress** Deep learning project for the \"Deep Learning\" course of the MSc \"Data Science\".\n",
        "\n",
        "Working with Anna! :)"
      ],
      "metadata": {
        "id": "JFVP4x9EptiC"
      }
    },
    {
      "cell_type": "code",
      "source": [
        "# Project overview\n",
        "# 1. SVM\n",
        "# 2. CNN\n",
        "# 3. Transfer learning"
      ],
      "metadata": {
        "id": "Gsokdm2TOvcW"
      },
      "execution_count": null,
      "outputs": []
    },
    {
      "cell_type": "code",
      "source": [
        "# Import packages\n",
        "import os\n",
        "from PIL import Image\n",
        "import matplotlib.pyplot as plt\n",
        "import pandas as pd\n",
        "import numpy as np\n",
        "import torch\n",
        "import torch.nn as nn\n",
        "import torch.nn.functional as F\n",
        "from torchvision import datasets, transforms\n",
        "from torch.utils.data import DataLoader\n",
        "torch.manual_seed(42)"
      ],
      "metadata": {
        "id": "P7GgL8YY1aL9"
      },
      "execution_count": null,
      "outputs": []
    },
    {
      "cell_type": "code",
      "source": [
        "# Datasets\n",
        "# We have 2 candidate datasets with real and synthetic images\n",
        "# CIFAKE: Real and AI-Generated Synthetic Images\n",
        "# https://www.kaggle.com/datasets/birdy654/cifake-real-and-ai-generated-synthetic-images\n",
        "#\n",
        "# ArtiFact (no kaggle url - only kaggle API)\n",
        "# !kaggle datasets download -d awsaf49/artifact-dataset\n",
        "# We should also import and take a look at ArtiFact to see which dataset we prefare\n",
        "# Took a look at ArtiFact. Much much bigger dataset with a lot datasets inside. Let's work with the simpler dataset first and try the other one if we have enough time.\n",
        "#\n",
        "# Using a kaggle key for now. Also using an input function to avoid storing the key in the code\n",
        "# Whoever wants to run their code has to input their own key (Stef/Anna/TG) - we can change this later\n",
        "KAGGLE_USERNAME = input(\"Enter your Kaggle username: \")\n",
        "KAGGLE_KEY = input(\"Enter your Kaggle key: \")\n",
        "\n",
        "os.environ['KAGGLE_USERNAME'] = KAGGLE_USERNAME\n",
        "os.environ['KAGGLE_KEY'] = KAGGLE_KEY"
      ],
      "metadata": {
        "id": "wDEqt9ALaLUK"
      },
      "execution_count": null,
      "outputs": []
    },
    {
      "cell_type": "code",
      "source": [
        "# Download CIFAKE dataset\n",
        "!kaggle datasets download -d birdy654/cifake-real-and-ai-generated-synthetic-images"
      ],
      "metadata": {
        "id": "LSd21FnybWD4"
      },
      "execution_count": null,
      "outputs": []
    },
    {
      "cell_type": "code",
      "source": [
        "# Unzip downloaded dataset (can be found in the Files on the left)\n",
        "!unzip -q cifake-real-and-ai-generated-synthetic-images.zip"
      ],
      "metadata": {
        "id": "beWHDMMCb1e1"
      },
      "execution_count": 27,
      "outputs": []
    },
    {
      "cell_type": "code",
      "source": [
        "!ls"
      ],
      "metadata": {
        "colab": {
          "base_uri": "https://localhost:8080/"
        },
        "id": "oCEiYkWJb_Jo",
        "outputId": "4e7e33ca-0ced-4735-94af-e9c6b900473a"
      },
      "execution_count": 29,
      "outputs": [
        {
          "output_type": "stream",
          "name": "stdout",
          "text": [
            "cifake-real-and-ai-generated-synthetic-images.zip  sample_data\ttest  train\n"
          ]
        }
      ]
    },
    {
      "cell_type": "code",
      "source": [
        "!find . -type d"
      ],
      "metadata": {
        "colab": {
          "base_uri": "https://localhost:8080/"
        },
        "id": "giiZ5LWhirYu",
        "outputId": "72fecc23-e075-40f3-ba1a-fb9958a414bb"
      },
      "execution_count": 30,
      "outputs": [
        {
          "output_type": "stream",
          "name": "stdout",
          "text": [
            ".\n",
            "./.config\n",
            "./.config/configurations\n",
            "./.config/logs\n",
            "./.config/logs/2024.04.04\n",
            "./train\n",
            "./train/FAKE\n",
            "./train/REAL\n",
            "./test\n",
            "./test/FAKE\n",
            "./test/REAL\n",
            "./sample_data\n"
          ]
        }
      ]
    },
    {
      "cell_type": "code",
      "source": [
        "# Paths to the dataset\n",
        "train_fake_path = './train/FAKE'\n",
        "train_real_path = './train/REAL'\n",
        "test_fake_path = './test/FAKE'\n",
        "test_real_path = './test/REAL'\n",
        "\n",
        "# Function to display an image\n",
        "def show_image(title, path):\n",
        "    image_files = os.listdir(path)\n",
        "    img_path = os.path.join(path, image_files[0])  # Just take the first image for now\n",
        "    img = Image.open(img_path)\n",
        "\n",
        "    plt.figure(figsize=(1, 1))\n",
        "    plt.imshow(img)\n",
        "    plt.title(title)\n",
        "    plt.axis('off')  # Hide the axis\n",
        "    plt.show()\n",
        "\n",
        "# Show one image from each category\n",
        "show_image('Train FAKE', train_fake_path)\n",
        "show_image('Train REAL', train_real_path)\n",
        "show_image('Test FAKE', test_fake_path)\n",
        "show_image('Test REAL', test_real_path)"
      ],
      "metadata": {
        "colab": {
          "base_uri": "https://localhost:8080/",
          "height": 493
        },
        "id": "MhIomBipoh1f",
        "outputId": "a65729ce-1864-4802-d855-43f9a793fbdd"
      },
      "execution_count": 2,
      "outputs": [
        {
          "output_type": "display_data",
          "data": {
            "text/plain": [
              "<Figure size 100x100 with 1 Axes>"
            ],
            "image/png": "[encoded data removed]"
          },
          "metadata": {}
        },
        {
          "output_type": "display_data",
          "data": {
            "text/plain": [
              "<Figure size 100x100 with 1 Axes>"
            ],
            "image/png": "[encoded data removed]"
          },
          "metadata": {}
        },
        {
          "output_type": "display_data",
          "data": {
            "text/plain": [
              "<Figure size 100x100 with 1 Axes>"
            ],
            "image/png": "[encoded data removed]"
          },
          "metadata": {}
        },
        {
          "output_type": "display_data",
          "data": {
            "text/plain": [
              "<Figure size 100x100 with 1 Axes>"
            ],
            "image/png": "[encoded data removed]"
          },
          "metadata": {}
        }
      ]
    },
    {
      "cell_type": "code",
      "source": [
        "# Classes' labels\n",
        "LABELS = np.asarray(os.listdir('train'))\n",
        "print(LABELS)"
      ],
      "metadata": {
        "id": "2BhaHXKLH-dW",
        "outputId": "6b8d9481-d0fc-4750-c372-fd7e58785adb",
        "colab": {
          "base_uri": "https://localhost:8080/"
        }
      },
      "execution_count": 5,
      "outputs": [
        {
          "output_type": "stream",
          "name": "stdout",
          "text": [
            "['FAKE' 'REAL']\n"
          ]
        }
      ]
    },
    {
      "cell_type": "code",
      "source": [
        "# Create the training and test datasets with ImageFolder class from PyTorch in comparison to creating custom datasets\n",
        "# TODO: Add transformation\n",
        "# Training dataset\n",
        "train_dataset = datasets.ImageFolder(root='train') # 'train' is the name of the folder (also its path)\n",
        "print(f\"Training set:\\n{train_dataset}\\n\")\n",
        "\n",
        "# Validation dataset\n",
        "valid_dataset = datasets.ImageFolder(root='test')\n",
        "print(f\"Validation set:\\n{valid_dataset}\")"
      ],
      "metadata": {
        "id": "LB2IwNtmQ05G",
        "outputId": "92eb8392-9750-4066-e2c0-1446a0e569ae",
        "colab": {
          "base_uri": "https://localhost:8080/"
        }
      },
      "execution_count": 7,
      "outputs": [
        {
          "output_type": "stream",
          "name": "stdout",
          "text": [
            "Training set:\n",
            "Dataset ImageFolder\n",
            "    Number of datapoints: 100000\n",
            "    Root location: train\n",
            "\n",
            "Validation set:\n",
            "Dataset ImageFolder\n",
            "    Number of datapoints: 20000\n",
            "    Root location: test\n"
          ]
        }
      ]
    },
    {
      "cell_type": "code",
      "source": [
        "# Batch size - change if we get an Out Of Memory error\n",
        "BATCH_SIZE = 64\n",
        "\n",
        "# Training data loaders\n",
        "train_loader = DataLoader(\n",
        "    train_dataset, batch_size=BATCH_SIZE, shuffle=True, # Shuffle for every epoch\n",
        "    num_workers=2, pin_memory=True # Changed num_workers to 2 from 4 after warning\n",
        ")\n",
        "# Validation data loaders\n",
        "valid_loader = DataLoader(\n",
        "    valid_dataset, batch_size=BATCH_SIZE, shuffle=False, # No need to shuffle the validation set\n",
        "    num_workers=2, pin_memory=True\n",
        ")"
      ],
      "metadata": {
        "id": "cCgzuqwSWcMx"
      },
      "execution_count": 9,
      "outputs": []
    },
    {
      "cell_type": "code",
      "source": [
        "# Feature engineering"
      ],
      "metadata": {
        "id": "hJw-g7okpl0L"
      },
      "execution_count": null,
      "outputs": []
    },
    {
      "cell_type": "code",
      "source": [
        "# SVM"
      ],
      "metadata": {
        "id": "ijdgPtMopoMV"
      },
      "execution_count": null,
      "outputs": []
    },
    {
      "cell_type": "code",
      "source": [
        "# Neural net architecture\n",
        "# TG said that we should save our classes to another file and import them for the report\n",
        "class DummyClassifier(nn.Module):\n",
        "    def __init__(self):\n",
        "        super(DummyClassifier, self).__init__()\n",
        "        self.conv1 = nn.Conv2d(1, 6, 5)\n",
        "        self.pool = nn.MaxPool2d(2, 2)\n",
        "        self.conv2 = nn.Conv2d(6, 16, 5)\n",
        "        self.fc1 = nn.Linear(16 * 4 * 4, 120)\n",
        "        self.fc2 = nn.Linear(120, 84)\n",
        "        self.fc3 = nn.Linear(84, 10)\n",
        "\n",
        "    def forward(self, x):\n",
        "        x = self.pool(F.relu(self.conv1(x)))\n",
        "        x = self.pool(F.relu(self.conv2(x)))\n",
        "        x = x.view(-1, 16 * 4 * 4)\n",
        "        x = F.relu(self.fc1(x))\n",
        "        x = F.relu(self.fc2(x))\n",
        "        x = self.fc3(x)\n",
        "        return x\n",
        "\n",
        "\n",
        "model = DummyClassifier()"
      ],
      "metadata": {
        "id": "juybr2djM62h"
      },
      "execution_count": 21,
      "outputs": []
    },
    {
      "cell_type": "code",
      "source": [
        "# Transfer learning"
      ],
      "metadata": {
        "id": "K0oyIqS6pqxQ"
      },
      "execution_count": null,
      "outputs": []
    }
  ]
}